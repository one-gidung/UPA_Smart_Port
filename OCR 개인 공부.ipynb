{
 "cells": [
  {
   "cell_type": "code",
   "execution_count": 1,
   "metadata": {},
   "outputs": [
    {
     "name": "stdout",
     "output_type": "stream",
     "text": [
      "Collecting easyocr\n",
      "  Downloading easyocr-1.4-py3-none-any.whl (63.6 MB)\n",
      "Requirement already satisfied: scikit-image in c:\\users\\senughee\\anaconda3\\lib\\site-packages (from easyocr) (0.17.2)\n",
      "Collecting python-bidi\n",
      "Note: you may need to restart the kernel to use updated packages.  Downloading python_bidi-0.4.2-py2.py3-none-any.whl (30 kB)\n",
      "Requirement already satisfied: Pillow in c:\\users\\senughee\\anaconda3\\lib\\site-packages (from easyocr) (8.0.1)\n",
      "Collecting torch\n",
      "  Downloading torch-1.9.0-cp38-cp38-win_amd64.whl (222.0 MB)\n",
      "Requirement already satisfied: PyYAML in c:\\users\\senughee\\anaconda3\\lib\\site-packages (from easyocr) (5.3.1)\n",
      "Requirement already satisfied: scipy in c:\\users\\senughee\\anaconda3\\lib\\site-packages (from easyocr) (1.5.2)\n",
      "Collecting torchvision>=0.5\n",
      "  Downloading torchvision-0.10.0-cp38-cp38-win_amd64.whl (920 kB)\n",
      "\n",
      "Requirement already satisfied: numpy in c:\\users\\senughee\\anaconda3\\lib\\site-packages (from easyocr) (1.19.2)\n",
      "Requirement already satisfied: opencv-python in c:\\users\\senughee\\anaconda3\\lib\\site-packages (from easyocr) (4.5.2.54)\n",
      "Requirement already satisfied: typing-extensions in c:\\users\\senughee\\anaconda3\\lib\\site-packages (from torch->easyocr) (3.7.4.3)\n",
      "Requirement already satisfied: six in c:\\users\\senughee\\anaconda3\\lib\\site-packages (from python-bidi->easyocr) (1.15.0)\n",
      "Requirement already satisfied: matplotlib!=3.0.0,>=2.0.0 in c:\\users\\senughee\\anaconda3\\lib\\site-packages (from scikit-image->easyocr) (3.3.2)\n",
      "Requirement already satisfied: networkx>=2.0 in c:\\users\\senughee\\anaconda3\\lib\\site-packages (from scikit-image->easyocr) (2.5)\n",
      "Requirement already satisfied: imageio>=2.3.0 in c:\\users\\senughee\\anaconda3\\lib\\site-packages (from scikit-image->easyocr) (2.9.0)\n",
      "Requirement already satisfied: tifffile>=2019.7.26 in c:\\users\\senughee\\anaconda3\\lib\\site-packages (from scikit-image->easyocr) (2020.10.1)\n",
      "Requirement already satisfied: PyWavelets>=1.1.1 in c:\\users\\senughee\\anaconda3\\lib\\site-packages (from scikit-image->easyocr) (1.1.1)\n",
      "Requirement already satisfied: pyparsing!=2.0.4,!=2.1.2,!=2.1.6,>=2.0.3 in c:\\users\\senughee\\anaconda3\\lib\\site-packages (from matplotlib!=3.0.0,>=2.0.0->scikit-image->easyocr) (2.4.7)\n",
      "Requirement already satisfied: certifi>=2020.06.20 in c:\\users\\senughee\\anaconda3\\lib\\site-packages (from matplotlib!=3.0.0,>=2.0.0->scikit-image->easyocr) (2020.6.20)\n",
      "Requirement already satisfied: kiwisolver>=1.0.1 in c:\\users\\senughee\\anaconda3\\lib\\site-packages (from matplotlib!=3.0.0,>=2.0.0->scikit-image->easyocr) (1.3.0)\n",
      "Requirement already satisfied: cycler>=0.10 in c:\\users\\senughee\\anaconda3\\lib\\site-packages (from matplotlib!=3.0.0,>=2.0.0->scikit-image->easyocr) (0.10.0)\n",
      "Requirement already satisfied: python-dateutil>=2.1 in c:\\users\\senughee\\anaconda3\\lib\\site-packages (from matplotlib!=3.0.0,>=2.0.0->scikit-image->easyocr) (2.8.1)\n",
      "Requirement already satisfied: decorator>=4.3.0 in c:\\users\\senughee\\anaconda3\\lib\\site-packages (from networkx>=2.0->scikit-image->easyocr) (4.4.2)\n",
      "Installing collected packages: torch, torchvision, python-bidi, easyocr\n",
      "Successfully installed easyocr-1.4 python-bidi-0.4.2 torch-1.9.0 torchvision-0.10.0\n"
     ]
    }
   ],
   "source": [
    "pip install easyocr"
   ]
  },
  {
   "cell_type": "code",
   "execution_count": 2,
   "metadata": {},
   "outputs": [
    {
     "name": "stdout",
     "output_type": "stream",
     "text": [
      "Collecting git+git://github.com/jaidedai/easyocr.git\n",
      "  Cloning git://github.com/jaidedai/easyocr.git to c:\\users\\senughee\\appdata\\local\\temp\\pip-req-build-dde3nga6\n",
      "  Resolved git://github.com/jaidedai/easyocr.git to commit f8c61f330ed50ef5da4e7423d8753b36fe0e8115\n",
      "Requirement already satisfied: torch in c:\\users\\senughee\\anaconda3\\lib\\site-packages (from easyocr==1.4) (1.9.0)\n",
      "Note: you may need to restart the kernel to use updated packages.Requirement already satisfied: torchvision>=0.5 in c:\\users\\senughee\\anaconda3\\lib\\site-packages (from easyocr==1.4) (0.10.0)\n",
      "Collecting opencv-python-headless\n",
      "  Downloading opencv_python_headless-4.5.3.56-cp38-cp38-win_amd64.whl (34.8 MB)\n",
      "Requirement already satisfied: scipy in c:\\users\\senughee\\anaconda3\\lib\\site-packages (from easyocr==1.4) (1.5.2)\n",
      "Requirement already satisfied: numpy in c:\\users\\senughee\\anaconda3\\lib\\site-packages (from easyocr==1.4) (1.19.2)\n",
      "Requirement already satisfied: Pillow<8.3.0 in c:\\users\\senughee\\anaconda3\\lib\\site-packages (from easyocr==1.4) (8.0.1)\n",
      "Requirement already satisfied: scikit-image in c:\\users\\senughee\\anaconda3\\lib\\site-packages (from easyocr==1.4) (0.17.2)\n",
      "Requirement already satisfied: python-bidi in c:\\users\\senughee\\anaconda3\\lib\\site-packages (from easyocr==1.4) (0.4.2)\n",
      "Requirement already satisfied: PyYAML in c:\\users\\senughee\\anaconda3\\lib\\site-packages (from easyocr==1.4) (5.3.1)\n",
      "Requirement already satisfied: typing-extensions in c:\\users\\senughee\\anaconda3\\lib\\site-packages (from torch->easyocr==1.4) (3.7.4.3)\n",
      "Requirement already satisfied: six in c:\\users\\senughee\\anaconda3\\lib\\site-packages (from python-bidi->easyocr==1.4) (1.15.0)\n",
      "Requirement already satisfied: matplotlib!=3.0.0,>=2.0.0 in c:\\users\\senughee\\anaconda3\\lib\\site-packages (from scikit-image->easyocr==1.4) (3.3.2)\n",
      "Requirement already satisfied: networkx>=2.0 in c:\\users\\senughee\\anaconda3\\lib\\site-packages (from scikit-image->easyocr==1.4) (2.5)\n",
      "\n"
     ]
    },
    {
     "name": "stderr",
     "output_type": "stream",
     "text": [
      "  Running command git clone -q git://github.com/jaidedai/easyocr.git 'C:\\Users\\SenugHee\\AppData\\Local\\Temp\\pip-req-build-dde3nga6'\n"
     ]
    },
    {
     "name": "stdout",
     "output_type": "stream",
     "text": [
      "Requirement already satisfied: imageio>=2.3.0 in c:\\users\\senughee\\anaconda3\\lib\\site-packages (from scikit-image->easyocr==1.4) (2.9.0)\n",
      "Requirement already satisfied: tifffile>=2019.7.26 in c:\\users\\senughee\\anaconda3\\lib\\site-packages (from scikit-image->easyocr==1.4) (2020.10.1)\n",
      "Requirement already satisfied: PyWavelets>=1.1.1 in c:\\users\\senughee\\anaconda3\\lib\\site-packages (from scikit-image->easyocr==1.4) (1.1.1)\n",
      "Requirement already satisfied: certifi>=2020.06.20 in c:\\users\\senughee\\anaconda3\\lib\\site-packages (from matplotlib!=3.0.0,>=2.0.0->scikit-image->easyocr==1.4) (2020.6.20)\n",
      "Requirement already satisfied: python-dateutil>=2.1 in c:\\users\\senughee\\anaconda3\\lib\\site-packages (from matplotlib!=3.0.0,>=2.0.0->scikit-image->easyocr==1.4) (2.8.1)\n",
      "Requirement already satisfied: pyparsing!=2.0.4,!=2.1.2,!=2.1.6,>=2.0.3 in c:\\users\\senughee\\anaconda3\\lib\\site-packages (from matplotlib!=3.0.0,>=2.0.0->scikit-image->easyocr==1.4) (2.4.7)\n",
      "Requirement already satisfied: cycler>=0.10 in c:\\users\\senughee\\anaconda3\\lib\\site-packages (from matplotlib!=3.0.0,>=2.0.0->scikit-image->easyocr==1.4) (0.10.0)\n",
      "Requirement already satisfied: kiwisolver>=1.0.1 in c:\\users\\senughee\\anaconda3\\lib\\site-packages (from matplotlib!=3.0.0,>=2.0.0->scikit-image->easyocr==1.4) (1.3.0)\n",
      "Requirement already satisfied: decorator>=4.3.0 in c:\\users\\senughee\\anaconda3\\lib\\site-packages (from networkx>=2.0->scikit-image->easyocr==1.4) (4.4.2)\n",
      "Installing collected packages: opencv-python-headless\n",
      "Successfully installed opencv-python-headless-4.5.3.56\n"
     ]
    }
   ],
   "source": [
    "pip install git+git://github.com/jaidedai/easyocr.git"
   ]
  },
  {
   "cell_type": "code",
   "execution_count": null,
   "metadata": {},
   "outputs": [],
   "source": []
  }
 ],
 "metadata": {
  "kernelspec": {
   "display_name": "Python 3",
   "language": "python",
   "name": "python3"
  },
  "language_info": {
   "codemirror_mode": {
    "name": "ipython",
    "version": 3
   },
   "file_extension": ".py",
   "mimetype": "text/x-python",
   "name": "python",
   "nbconvert_exporter": "python",
   "pygments_lexer": "ipython3",
   "version": "3.8.5"
  }
 },
 "nbformat": 4,
 "nbformat_minor": 4
}
