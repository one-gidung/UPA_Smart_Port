{
 "cells": [
  {
   "cell_type": "code",
   "execution_count": 1,
   "metadata": {},
   "outputs": [],
   "source": [
    "import numpy as np \n",
    "import pandas as pd\n",
    "import matplotlib\n",
    "import matplotlib.pyplot as plt\n",
    "import seaborn as sns\n",
    "import matplotlib.font_manager as fm\n",
    "plt.style.use('fivethirtyeight')\n",
    "import warnings\n",
    "warnings.filterwarnings('ignore')\n",
    "%matplotlib inline\n",
    "\n",
    "font_location = 'C:/Windows/Fonts/malgunsl.ttf'\n",
    "font_name = fm.FontProperties(fname = font_location).get_name()\n",
    "sns.set(rc = {'figure.figsize':(15,8)})\n",
    "matplotlib.rc('font' , family=font_name)#한글폰트 설정"
   ]
  },
  {
   "cell_type": "code",
   "execution_count": 3,
   "metadata": {},
   "outputs": [
    {
     "data": {
      "text/html": [
       "<div>\n",
       "<style scoped>\n",
       "    .dataframe tbody tr th:only-of-type {\n",
       "        vertical-align: middle;\n",
       "    }\n",
       "\n",
       "    .dataframe tbody tr th {\n",
       "        vertical-align: top;\n",
       "    }\n",
       "\n",
       "    .dataframe thead th {\n",
       "        text-align: right;\n",
       "    }\n",
       "</style>\n",
       "<table border=\"1\" class=\"dataframe\">\n",
       "  <thead>\n",
       "    <tr style=\"text-align: right;\">\n",
       "      <th></th>\n",
       "      <th>선명</th>\n",
       "      <th>호출부호</th>\n",
       "      <th>입항횟수</th>\n",
       "      <th>입출</th>\n",
       "      <th>총톤수</th>\n",
       "      <th>계선</th>\n",
       "      <th>계선장소</th>\n",
       "      <th>입출항 차 (시간)</th>\n",
       "      <th>차항지</th>\n",
       "      <th>전출항지</th>\n",
       "      <th>입항일시</th>\n",
       "      <th>출항일시</th>\n",
       "      <th>MRN 번호</th>\n",
       "    </tr>\n",
       "  </thead>\n",
       "  <tbody>\n",
       "    <tr>\n",
       "      <th>0</th>\n",
       "      <td>TITANIA</td>\n",
       "      <td>9HA2272</td>\n",
       "      <td>1</td>\n",
       "      <td>0</td>\n",
       "      <td>74255</td>\n",
       "      <td>MBJ 02</td>\n",
       "      <td>MBJ</td>\n",
       "      <td>116.000000</td>\n",
       "      <td>목포</td>\n",
       "      <td>장승포</td>\n",
       "      <td>2011-12-28 17:15:00</td>\n",
       "      <td>2012-01-02 13:15:00</td>\n",
       "      <td>12EUKOV0179</td>\n",
       "    </tr>\n",
       "    <tr>\n",
       "      <th>1</th>\n",
       "      <td>WESTERN HIGHWAY</td>\n",
       "      <td>3EJK5</td>\n",
       "      <td>1</td>\n",
       "      <td>0</td>\n",
       "      <td>39422</td>\n",
       "      <td>MBJ 02</td>\n",
       "      <td>MBJ</td>\n",
       "      <td>107.583333</td>\n",
       "      <td>SINGAPORE</td>\n",
       "      <td>KANDA, FUKUOKA</td>\n",
       "      <td>2011-12-29 05:45:00</td>\n",
       "      <td>2012-01-02 17:20:00</td>\n",
       "      <td>12EVOLU0039</td>\n",
       "    </tr>\n",
       "    <tr>\n",
       "      <th>2</th>\n",
       "      <td>NORTHERN HIGHWAY</td>\n",
       "      <td>V7FT4</td>\n",
       "      <td>1</td>\n",
       "      <td>1</td>\n",
       "      <td>39422</td>\n",
       "      <td>MBJ 01</td>\n",
       "      <td>MBJ</td>\n",
       "      <td>38.000000</td>\n",
       "      <td>NEW WESTMINSTER</td>\n",
       "      <td>광양</td>\n",
       "      <td>2012-01-02 07:35:00</td>\n",
       "      <td>2012-01-03 21:35:00</td>\n",
       "      <td>11GLVSU1985</td>\n",
       "    </tr>\n",
       "    <tr>\n",
       "      <th>3</th>\n",
       "      <td>NORTHERN HIGHWAY</td>\n",
       "      <td>V7FT4</td>\n",
       "      <td>1</td>\n",
       "      <td>0</td>\n",
       "      <td>39422</td>\n",
       "      <td>MBJ 03</td>\n",
       "      <td>MBJ</td>\n",
       "      <td>38.000000</td>\n",
       "      <td>NEW WESTMINSTER</td>\n",
       "      <td>광양</td>\n",
       "      <td>2012-01-02 07:35:00</td>\n",
       "      <td>2012-01-03 21:35:00</td>\n",
       "      <td>12GLVSU0026</td>\n",
       "    </tr>\n",
       "    <tr>\n",
       "      <th>4</th>\n",
       "      <td>CAR STAR</td>\n",
       "      <td>A8VI6</td>\n",
       "      <td>1</td>\n",
       "      <td>0</td>\n",
       "      <td>43790</td>\n",
       "      <td>MBJ 03</td>\n",
       "      <td>MBJ</td>\n",
       "      <td>7.750000</td>\n",
       "      <td>YOKOHAMA</td>\n",
       "      <td>NAGOYA, AICHI</td>\n",
       "      <td>2012-01-02 07:45:00</td>\n",
       "      <td>2012-01-02 15:30:00</td>\n",
       "      <td>12ZIMUECS10</td>\n",
       "    </tr>\n",
       "    <tr>\n",
       "      <th>...</th>\n",
       "      <td>...</td>\n",
       "      <td>...</td>\n",
       "      <td>...</td>\n",
       "      <td>...</td>\n",
       "      <td>...</td>\n",
       "      <td>...</td>\n",
       "      <td>...</td>\n",
       "      <td>...</td>\n",
       "      <td>...</td>\n",
       "      <td>...</td>\n",
       "      <td>...</td>\n",
       "      <td>...</td>\n",
       "      <td>...</td>\n",
       "    </tr>\n",
       "    <tr>\n",
       "      <th>11407</th>\n",
       "      <td>PRESTIGE ACE</td>\n",
       "      <td>H3NG</td>\n",
       "      <td>2</td>\n",
       "      <td>1</td>\n",
       "      <td>55878</td>\n",
       "      <td>MBJ 01</td>\n",
       "      <td>MBJ</td>\n",
       "      <td>15.750000</td>\n",
       "      <td>광양</td>\n",
       "      <td>SINGAPORE</td>\n",
       "      <td>2021-08-16 06:15:00</td>\n",
       "      <td>2021-08-16 22:00:00</td>\n",
       "      <td>21GLVSE147I</td>\n",
       "    </tr>\n",
       "    <tr>\n",
       "      <th>11408</th>\n",
       "      <td>PASSAMA</td>\n",
       "      <td>ZDNC6</td>\n",
       "      <td>2</td>\n",
       "      <td>1</td>\n",
       "      <td>47053</td>\n",
       "      <td>MBJ 03</td>\n",
       "      <td>MBJ</td>\n",
       "      <td>73.000000</td>\n",
       "      <td>MOJI/KITAKYUSHU</td>\n",
       "      <td>마산</td>\n",
       "      <td>2021-08-16 08:00:00</td>\n",
       "      <td>2021-08-19 09:00:00</td>\n",
       "      <td>21L53KI448I</td>\n",
       "    </tr>\n",
       "    <tr>\n",
       "      <th>11409</th>\n",
       "      <td>아세안 메저스티호</td>\n",
       "      <td>DSMZ8</td>\n",
       "      <td>2</td>\n",
       "      <td>1</td>\n",
       "      <td>71383</td>\n",
       "      <td>MBJ 02</td>\n",
       "      <td>MBJ</td>\n",
       "      <td>39.750000</td>\n",
       "      <td>평택.당진</td>\n",
       "      <td>마산</td>\n",
       "      <td>2021-08-17 06:15:00</td>\n",
       "      <td>2021-08-18 22:00:00</td>\n",
       "      <td>21EUKOV913I</td>\n",
       "    </tr>\n",
       "    <tr>\n",
       "      <th>11410</th>\n",
       "      <td>MORNING LILY</td>\n",
       "      <td>3FDI5</td>\n",
       "      <td>2</td>\n",
       "      <td>1</td>\n",
       "      <td>70853</td>\n",
       "      <td>MBJ 03</td>\n",
       "      <td>MBJ</td>\n",
       "      <td>15.750000</td>\n",
       "      <td>마산</td>\n",
       "      <td>평택.당진</td>\n",
       "      <td>2021-08-18 06:15:00</td>\n",
       "      <td>2021-08-18 22:00:00</td>\n",
       "      <td>21EUKOV921I</td>\n",
       "    </tr>\n",
       "    <tr>\n",
       "      <th>11411</th>\n",
       "      <td>모닝 세실</td>\n",
       "      <td>3FHK6</td>\n",
       "      <td>3</td>\n",
       "      <td>1</td>\n",
       "      <td>60876</td>\n",
       "      <td>MBJ 01</td>\n",
       "      <td>MBJ</td>\n",
       "      <td>15.750000</td>\n",
       "      <td>BRUNSWICK, GA</td>\n",
       "      <td>목포</td>\n",
       "      <td>2021-08-19 06:15:00</td>\n",
       "      <td>2021-08-19 22:00:00</td>\n",
       "      <td>21EUKOV916I</td>\n",
       "    </tr>\n",
       "  </tbody>\n",
       "</table>\n",
       "<p>11412 rows × 13 columns</p>\n",
       "</div>"
      ],
      "text/plain": [
       "                     선명     호출부호  입항횟수  입출    총톤수      계선 계선장소  입출항 차 (시간)  \\\n",
       "0               TITANIA  9HA2272     1   0  74255  MBJ 02  MBJ  116.000000   \n",
       "1       WESTERN HIGHWAY    3EJK5     1   0  39422  MBJ 02  MBJ  107.583333   \n",
       "2      NORTHERN HIGHWAY    V7FT4     1   1  39422  MBJ 01  MBJ   38.000000   \n",
       "3      NORTHERN HIGHWAY    V7FT4     1   0  39422  MBJ 03  MBJ   38.000000   \n",
       "4              CAR STAR    A8VI6     1   0  43790  MBJ 03  MBJ    7.750000   \n",
       "...                 ...      ...   ...  ..    ...     ...  ...         ...   \n",
       "11407      PRESTIGE ACE     H3NG     2   1  55878  MBJ 01  MBJ   15.750000   \n",
       "11408           PASSAMA    ZDNC6     2   1  47053  MBJ 03  MBJ   73.000000   \n",
       "11409         아세안 메저스티호    DSMZ8     2   1  71383  MBJ 02  MBJ   39.750000   \n",
       "11410      MORNING LILY    3FDI5     2   1  70853  MBJ 03  MBJ   15.750000   \n",
       "11411             모닝 세실    3FHK6     3   1  60876  MBJ 01  MBJ   15.750000   \n",
       "\n",
       "                   차항지            전출항지                입항일시  \\\n",
       "0                   목포             장승포 2011-12-28 17:15:00   \n",
       "1            SINGAPORE  KANDA, FUKUOKA 2011-12-29 05:45:00   \n",
       "2      NEW WESTMINSTER              광양 2012-01-02 07:35:00   \n",
       "3      NEW WESTMINSTER              광양 2012-01-02 07:35:00   \n",
       "4             YOKOHAMA   NAGOYA, AICHI 2012-01-02 07:45:00   \n",
       "...                ...             ...                 ...   \n",
       "11407               광양       SINGAPORE 2021-08-16 06:15:00   \n",
       "11408  MOJI/KITAKYUSHU              마산 2021-08-16 08:00:00   \n",
       "11409            평택.당진              마산 2021-08-17 06:15:00   \n",
       "11410               마산           평택.당진 2021-08-18 06:15:00   \n",
       "11411    BRUNSWICK, GA              목포 2021-08-19 06:15:00   \n",
       "\n",
       "                     출항일시       MRN 번호  \n",
       "0     2012-01-02 13:15:00  12EUKOV0179  \n",
       "1     2012-01-02 17:20:00  12EVOLU0039  \n",
       "2     2012-01-03 21:35:00  11GLVSU1985  \n",
       "3     2012-01-03 21:35:00  12GLVSU0026  \n",
       "4     2012-01-02 15:30:00  12ZIMUECS10  \n",
       "...                   ...          ...  \n",
       "11407 2021-08-16 22:00:00  21GLVSE147I  \n",
       "11408 2021-08-19 09:00:00  21L53KI448I  \n",
       "11409 2021-08-18 22:00:00  21EUKOV913I  \n",
       "11410 2021-08-18 22:00:00  21EUKOV921I  \n",
       "11411 2021-08-19 22:00:00  21EUKOV916I  \n",
       "\n",
       "[11412 rows x 13 columns]"
      ]
     },
     "execution_count": 3,
     "metadata": {},
     "output_type": "execute_result"
    }
   ],
   "source": [
    "# 데이터 불러오기\n",
    "df = pd.read_excel('자동차항만입출항전처리데이터.xlsx', index_col=0)\n",
    "df"
   ]
  },
  {
   "cell_type": "code",
   "execution_count": 4,
   "metadata": {},
   "outputs": [
    {
     "data": {
      "text/html": [
       "<div>\n",
       "<style scoped>\n",
       "    .dataframe tbody tr th:only-of-type {\n",
       "        vertical-align: middle;\n",
       "    }\n",
       "\n",
       "    .dataframe tbody tr th {\n",
       "        vertical-align: top;\n",
       "    }\n",
       "\n",
       "    .dataframe thead th {\n",
       "        text-align: right;\n",
       "    }\n",
       "</style>\n",
       "<table border=\"1\" class=\"dataframe\">\n",
       "  <thead>\n",
       "    <tr style=\"text-align: right;\">\n",
       "      <th></th>\n",
       "      <th>선명</th>\n",
       "      <th>호출부호</th>\n",
       "      <th>입항횟수</th>\n",
       "      <th>입출</th>\n",
       "      <th>총톤수</th>\n",
       "      <th>계선</th>\n",
       "      <th>계선장소</th>\n",
       "      <th>작업시간</th>\n",
       "      <th>차항지</th>\n",
       "      <th>전출항지</th>\n",
       "      <th>입항일시</th>\n",
       "      <th>출항일시</th>\n",
       "      <th>MRN 번호</th>\n",
       "    </tr>\n",
       "  </thead>\n",
       "  <tbody>\n",
       "    <tr>\n",
       "      <th>0</th>\n",
       "      <td>TITANIA</td>\n",
       "      <td>9HA2272</td>\n",
       "      <td>1</td>\n",
       "      <td>0</td>\n",
       "      <td>74255</td>\n",
       "      <td>MBJ 02</td>\n",
       "      <td>MBJ</td>\n",
       "      <td>116.000000</td>\n",
       "      <td>목포</td>\n",
       "      <td>장승포</td>\n",
       "      <td>2011-12-28 17:15:00</td>\n",
       "      <td>2012-01-02 13:15:00</td>\n",
       "      <td>12EUKOV0179</td>\n",
       "    </tr>\n",
       "    <tr>\n",
       "      <th>1</th>\n",
       "      <td>WESTERN HIGHWAY</td>\n",
       "      <td>3EJK5</td>\n",
       "      <td>1</td>\n",
       "      <td>0</td>\n",
       "      <td>39422</td>\n",
       "      <td>MBJ 02</td>\n",
       "      <td>MBJ</td>\n",
       "      <td>107.583333</td>\n",
       "      <td>SINGAPORE</td>\n",
       "      <td>KANDA, FUKUOKA</td>\n",
       "      <td>2011-12-29 05:45:00</td>\n",
       "      <td>2012-01-02 17:20:00</td>\n",
       "      <td>12EVOLU0039</td>\n",
       "    </tr>\n",
       "    <tr>\n",
       "      <th>2</th>\n",
       "      <td>NORTHERN HIGHWAY</td>\n",
       "      <td>V7FT4</td>\n",
       "      <td>1</td>\n",
       "      <td>1</td>\n",
       "      <td>39422</td>\n",
       "      <td>MBJ 01</td>\n",
       "      <td>MBJ</td>\n",
       "      <td>38.000000</td>\n",
       "      <td>NEW WESTMINSTER</td>\n",
       "      <td>광양</td>\n",
       "      <td>2012-01-02 07:35:00</td>\n",
       "      <td>2012-01-03 21:35:00</td>\n",
       "      <td>11GLVSU1985</td>\n",
       "    </tr>\n",
       "    <tr>\n",
       "      <th>3</th>\n",
       "      <td>NORTHERN HIGHWAY</td>\n",
       "      <td>V7FT4</td>\n",
       "      <td>1</td>\n",
       "      <td>0</td>\n",
       "      <td>39422</td>\n",
       "      <td>MBJ 03</td>\n",
       "      <td>MBJ</td>\n",
       "      <td>38.000000</td>\n",
       "      <td>NEW WESTMINSTER</td>\n",
       "      <td>광양</td>\n",
       "      <td>2012-01-02 07:35:00</td>\n",
       "      <td>2012-01-03 21:35:00</td>\n",
       "      <td>12GLVSU0026</td>\n",
       "    </tr>\n",
       "    <tr>\n",
       "      <th>4</th>\n",
       "      <td>CAR STAR</td>\n",
       "      <td>A8VI6</td>\n",
       "      <td>1</td>\n",
       "      <td>0</td>\n",
       "      <td>43790</td>\n",
       "      <td>MBJ 03</td>\n",
       "      <td>MBJ</td>\n",
       "      <td>7.750000</td>\n",
       "      <td>YOKOHAMA</td>\n",
       "      <td>NAGOYA, AICHI</td>\n",
       "      <td>2012-01-02 07:45:00</td>\n",
       "      <td>2012-01-02 15:30:00</td>\n",
       "      <td>12ZIMUECS10</td>\n",
       "    </tr>\n",
       "    <tr>\n",
       "      <th>...</th>\n",
       "      <td>...</td>\n",
       "      <td>...</td>\n",
       "      <td>...</td>\n",
       "      <td>...</td>\n",
       "      <td>...</td>\n",
       "      <td>...</td>\n",
       "      <td>...</td>\n",
       "      <td>...</td>\n",
       "      <td>...</td>\n",
       "      <td>...</td>\n",
       "      <td>...</td>\n",
       "      <td>...</td>\n",
       "      <td>...</td>\n",
       "    </tr>\n",
       "    <tr>\n",
       "      <th>11407</th>\n",
       "      <td>PRESTIGE ACE</td>\n",
       "      <td>H3NG</td>\n",
       "      <td>2</td>\n",
       "      <td>1</td>\n",
       "      <td>55878</td>\n",
       "      <td>MBJ 01</td>\n",
       "      <td>MBJ</td>\n",
       "      <td>15.750000</td>\n",
       "      <td>광양</td>\n",
       "      <td>SINGAPORE</td>\n",
       "      <td>2021-08-16 06:15:00</td>\n",
       "      <td>2021-08-16 22:00:00</td>\n",
       "      <td>21GLVSE147I</td>\n",
       "    </tr>\n",
       "    <tr>\n",
       "      <th>11408</th>\n",
       "      <td>PASSAMA</td>\n",
       "      <td>ZDNC6</td>\n",
       "      <td>2</td>\n",
       "      <td>1</td>\n",
       "      <td>47053</td>\n",
       "      <td>MBJ 03</td>\n",
       "      <td>MBJ</td>\n",
       "      <td>73.000000</td>\n",
       "      <td>MOJI/KITAKYUSHU</td>\n",
       "      <td>마산</td>\n",
       "      <td>2021-08-16 08:00:00</td>\n",
       "      <td>2021-08-19 09:00:00</td>\n",
       "      <td>21L53KI448I</td>\n",
       "    </tr>\n",
       "    <tr>\n",
       "      <th>11409</th>\n",
       "      <td>아세안 메저스티호</td>\n",
       "      <td>DSMZ8</td>\n",
       "      <td>2</td>\n",
       "      <td>1</td>\n",
       "      <td>71383</td>\n",
       "      <td>MBJ 02</td>\n",
       "      <td>MBJ</td>\n",
       "      <td>39.750000</td>\n",
       "      <td>평택.당진</td>\n",
       "      <td>마산</td>\n",
       "      <td>2021-08-17 06:15:00</td>\n",
       "      <td>2021-08-18 22:00:00</td>\n",
       "      <td>21EUKOV913I</td>\n",
       "    </tr>\n",
       "    <tr>\n",
       "      <th>11410</th>\n",
       "      <td>MORNING LILY</td>\n",
       "      <td>3FDI5</td>\n",
       "      <td>2</td>\n",
       "      <td>1</td>\n",
       "      <td>70853</td>\n",
       "      <td>MBJ 03</td>\n",
       "      <td>MBJ</td>\n",
       "      <td>15.750000</td>\n",
       "      <td>마산</td>\n",
       "      <td>평택.당진</td>\n",
       "      <td>2021-08-18 06:15:00</td>\n",
       "      <td>2021-08-18 22:00:00</td>\n",
       "      <td>21EUKOV921I</td>\n",
       "    </tr>\n",
       "    <tr>\n",
       "      <th>11411</th>\n",
       "      <td>모닝 세실</td>\n",
       "      <td>3FHK6</td>\n",
       "      <td>3</td>\n",
       "      <td>1</td>\n",
       "      <td>60876</td>\n",
       "      <td>MBJ 01</td>\n",
       "      <td>MBJ</td>\n",
       "      <td>15.750000</td>\n",
       "      <td>BRUNSWICK, GA</td>\n",
       "      <td>목포</td>\n",
       "      <td>2021-08-19 06:15:00</td>\n",
       "      <td>2021-08-19 22:00:00</td>\n",
       "      <td>21EUKOV916I</td>\n",
       "    </tr>\n",
       "  </tbody>\n",
       "</table>\n",
       "<p>11412 rows × 13 columns</p>\n",
       "</div>"
      ],
      "text/plain": [
       "                     선명     호출부호  입항횟수  입출    총톤수      계선 계선장소        작업시간  \\\n",
       "0               TITANIA  9HA2272     1   0  74255  MBJ 02  MBJ  116.000000   \n",
       "1       WESTERN HIGHWAY    3EJK5     1   0  39422  MBJ 02  MBJ  107.583333   \n",
       "2      NORTHERN HIGHWAY    V7FT4     1   1  39422  MBJ 01  MBJ   38.000000   \n",
       "3      NORTHERN HIGHWAY    V7FT4     1   0  39422  MBJ 03  MBJ   38.000000   \n",
       "4              CAR STAR    A8VI6     1   0  43790  MBJ 03  MBJ    7.750000   \n",
       "...                 ...      ...   ...  ..    ...     ...  ...         ...   \n",
       "11407      PRESTIGE ACE     H3NG     2   1  55878  MBJ 01  MBJ   15.750000   \n",
       "11408           PASSAMA    ZDNC6     2   1  47053  MBJ 03  MBJ   73.000000   \n",
       "11409         아세안 메저스티호    DSMZ8     2   1  71383  MBJ 02  MBJ   39.750000   \n",
       "11410      MORNING LILY    3FDI5     2   1  70853  MBJ 03  MBJ   15.750000   \n",
       "11411             모닝 세실    3FHK6     3   1  60876  MBJ 01  MBJ   15.750000   \n",
       "\n",
       "                   차항지            전출항지                입항일시  \\\n",
       "0                   목포             장승포 2011-12-28 17:15:00   \n",
       "1            SINGAPORE  KANDA, FUKUOKA 2011-12-29 05:45:00   \n",
       "2      NEW WESTMINSTER              광양 2012-01-02 07:35:00   \n",
       "3      NEW WESTMINSTER              광양 2012-01-02 07:35:00   \n",
       "4             YOKOHAMA   NAGOYA, AICHI 2012-01-02 07:45:00   \n",
       "...                ...             ...                 ...   \n",
       "11407               광양       SINGAPORE 2021-08-16 06:15:00   \n",
       "11408  MOJI/KITAKYUSHU              마산 2021-08-16 08:00:00   \n",
       "11409            평택.당진              마산 2021-08-17 06:15:00   \n",
       "11410               마산           평택.당진 2021-08-18 06:15:00   \n",
       "11411    BRUNSWICK, GA              목포 2021-08-19 06:15:00   \n",
       "\n",
       "                     출항일시       MRN 번호  \n",
       "0     2012-01-02 13:15:00  12EUKOV0179  \n",
       "1     2012-01-02 17:20:00  12EVOLU0039  \n",
       "2     2012-01-03 21:35:00  11GLVSU1985  \n",
       "3     2012-01-03 21:35:00  12GLVSU0026  \n",
       "4     2012-01-02 15:30:00  12ZIMUECS10  \n",
       "...                   ...          ...  \n",
       "11407 2021-08-16 22:00:00  21GLVSE147I  \n",
       "11408 2021-08-19 09:00:00  21L53KI448I  \n",
       "11409 2021-08-18 22:00:00  21EUKOV913I  \n",
       "11410 2021-08-18 22:00:00  21EUKOV921I  \n",
       "11411 2021-08-19 22:00:00  21EUKOV916I  \n",
       "\n",
       "[11412 rows x 13 columns]"
      ]
     },
     "execution_count": 4,
     "metadata": {},
     "output_type": "execute_result"
    }
   ],
   "source": [
    "# 칼럼 이름 변경\n",
    "df.rename(columns={'입출항 차 (시간)': '작업시간'}, inplace=True)\n",
    "df"
   ]
  },
  {
   "cell_type": "code",
   "execution_count": 36,
   "metadata": {},
   "outputs": [
    {
     "data": {
      "text/plain": [
       "<seaborn.axisgrid.PairGrid at 0x1cd2a0aa760>"
      ]
     },
     "execution_count": 36,
     "metadata": {},
     "output_type": "execute_result"
    },
    {
     "data": {
      "image/png": "[encoded data removed]",
      "text/plain": [
       "<Figure size 720x720 with 1 Axes>"
      ]
     },
     "metadata": {},
     "output_type": "display_data"
    }
   ],
   "source": [
    "sns.pairplot(df, x_vars=['총톤수'], \n",
    "             y_vars='작업시간',size=10, aspect=1, kind='scatter')"
   ]
  },
  {
   "cell_type": "code",
   "execution_count": 9,
   "metadata": {},
   "outputs": [
    {
     "data": {
      "text/plain": [
       "0    74255\n",
       "1    39422\n",
       "2    39422\n",
       "3    39422\n",
       "4    43790\n",
       "Name: 총톤수, dtype: int64"
      ]
     },
     "execution_count": 9,
     "metadata": {},
     "output_type": "execute_result"
    }
   ],
   "source": [
    "# 'TV' Column을 변수 X로 지정\n",
    "X = df['총톤수']\n",
    "\n",
    "X.head()"
   ]
  },
  {
   "cell_type": "code",
   "execution_count": 10,
   "metadata": {},
   "outputs": [
    {
     "data": {
      "text/plain": [
       "0    116.000000\n",
       "1    107.583333\n",
       "2     38.000000\n",
       "3     38.000000\n",
       "4      7.750000\n",
       "Name: 작업시간, dtype: float64"
      ]
     },
     "execution_count": 10,
     "metadata": {},
     "output_type": "execute_result"
    }
   ],
   "source": [
    "# 'Sales Column을 target y로 지정\n",
    "y = df['작업시간']\n",
    "\n",
    "y.head()"
   ]
  },
  {
   "cell_type": "code",
   "execution_count": 11,
   "metadata": {},
   "outputs": [],
   "source": [
    "# sklearn의 model_selection으로 train_test_split 불러오기\n",
    "\n",
    "from sklearn.model_selection import train_test_split\n",
    "\n",
    "X_train, X_test, y_train, y_test = train_test_split(X, y, train_size=0.7, \n",
    "                                                    random_state=100) # random_state 인자를 동일하게 하면 동일하게 분리"
   ]
  },
  {
   "cell_type": "code",
   "execution_count": 12,
   "metadata": {},
   "outputs": [
    {
     "name": "stdout",
     "output_type": "stream",
     "text": [
      "(7988,)\n",
      "(3424,)\n"
     ]
    }
   ],
   "source": [
    "print(X_train.shape)\n",
    "print(X_test.shape)"
   ]
  },
  {
   "cell_type": "code",
   "execution_count": 13,
   "metadata": {},
   "outputs": [
    {
     "name": "stdout",
     "output_type": "stream",
     "text": [
      "<class 'pandas.core.series.Series'>\n",
      "<class 'pandas.core.series.Series'>\n",
      "<class 'pandas.core.series.Series'>\n",
      "<class 'pandas.core.series.Series'>\n"
     ]
    }
   ],
   "source": [
    "print(type(X_train))\n",
    "print(type(X_test))\n",
    "print(type(y_train))\n",
    "print(type(y_test))"
   ]
  },
  {
   "cell_type": "code",
   "execution_count": 14,
   "metadata": {},
   "outputs": [
    {
     "name": "stdout",
     "output_type": "stream",
     "text": [
      "(7988,)\n",
      "(7988,)\n",
      "(3424,)\n",
      "(3424,)\n"
     ]
    },
    {
     "data": {
      "text/plain": [
       "<function print>"
      ]
     },
     "execution_count": 14,
     "metadata": {},
     "output_type": "execute_result"
    }
   ],
   "source": [
    "print(X_train.shape)\n",
    "print(y_train.shape)\n",
    "print(X_test.shape)\n",
    "print(y_test.shape)\n",
    "print"
   ]
  },
  {
   "cell_type": "code",
   "execution_count": 15,
   "metadata": {},
   "outputs": [],
   "source": [
    "X_train = X_train[:, np.newaxis]\n",
    "X_test = X_test[:, np.newaxis]"
   ]
  },
  {
   "cell_type": "code",
   "execution_count": 16,
   "metadata": {},
   "outputs": [
    {
     "data": {
      "text/plain": [
       "LinearRegression()"
      ]
     },
     "execution_count": 16,
     "metadata": {},
     "output_type": "execute_result"
    }
   ],
   "source": [
    "# import LinearRegression from sklearn\n",
    "from sklearn.linear_model import LinearRegression\n",
    "\n",
    "# lr에 LinearRegression() 지정\n",
    "lr = LinearRegression()\n",
    "\n",
    "# lr.fit() Model Fit 하기\n",
    "lr.fit(X_train, y_train)"
   ]
  },
  {
   "cell_type": "markdown",
   "metadata": {},
   "source": [
    "# 5."
   ]
  },
  {
   "cell_type": "code",
   "execution_count": 17,
   "metadata": {},
   "outputs": [
    {
     "data": {
      "text/plain": [
       "16.025904135973878"
      ]
     },
     "execution_count": 17,
     "metadata": {},
     "output_type": "execute_result"
    }
   ],
   "source": [
    "lr.intercept_"
   ]
  },
  {
   "cell_type": "code",
   "execution_count": 18,
   "metadata": {},
   "outputs": [
    {
     "data": {
      "text/plain": [
       "array([0.00023675])"
      ]
     },
     "execution_count": 18,
     "metadata": {},
     "output_type": "execute_result"
    }
   ],
   "source": [
    "lr.coef_"
   ]
  },
  {
   "cell_type": "code",
   "execution_count": 19,
   "metadata": {},
   "outputs": [
    {
     "name": "stdout",
     "output_type": "stream",
     "text": [
      "16.025904135973878\n",
      "[0.00023675]\n"
     ]
    }
   ],
   "source": [
    "# Print 절편(intercept)과 coefficients(상관계수)\n",
    "print(lr.intercept_)\n",
    "print(lr.coef_)"
   ]
  },
  {
   "cell_type": "markdown",
   "metadata": {},
   "source": [
    "# 6. Predictions"
   ]
  },
  {
   "cell_type": "code",
   "execution_count": 20,
   "metadata": {},
   "outputs": [],
   "source": [
    "# 예측을 위한 predictions on the testing set\n",
    "y_pred = lr.predict(X_test)"
   ]
  },
  {
   "cell_type": "code",
   "execution_count": 21,
   "metadata": {},
   "outputs": [
    {
     "data": {
      "text/plain": [
       "numpy.ndarray"
      ]
     },
     "execution_count": 21,
     "metadata": {},
     "output_type": "execute_result"
    }
   ],
   "source": [
    "type(y_pred)"
   ]
  },
  {
   "cell_type": "code",
   "execution_count": 22,
   "metadata": {},
   "outputs": [
    {
     "data": {
      "text/plain": [
       "array([27.5497814 , 29.64877671, 30.04532726, ..., 30.04532726,\n",
       "       31.33157151, 31.95042711])"
      ]
     },
     "execution_count": 22,
     "metadata": {},
     "output_type": "execute_result"
    }
   ],
   "source": [
    "y_pred"
   ]
  },
  {
   "cell_type": "code",
   "execution_count": 29,
   "metadata": {},
   "outputs": [
    {
     "data": {
      "image/png": "[encoded data removed]",
      "text/plain": [
       "<Figure size 1080x576 with 1 Axes>"
      ]
     },
     "metadata": {},
     "output_type": "display_data"
    }
   ],
   "source": [
    "import matplotlib.pyplot as plt\n",
    "\n",
    "c = [i for i in range(1, 3425, 1)]  # generating index \n",
    "fig = plt.figure()\n",
    "plt.plot(c,y_test, color=\"blue\", linewidth=1, linestyle=\"-\", label='actual')\n",
    "plt.plot(c,y_pred, color=\"red\",  linewidth=1, linestyle=\"-\", label='pred')\n",
    "fig.suptitle('Actual and Predicted', fontsize=20) # Plot heading \n",
    "plt.xlabel('총톤수', fontsize=18)  # X-label\n",
    "plt.ylabel('작업시간', fontsize=16)   # Y-label\n",
    "plt.legend()\n",
    "\n",
    "plt.show()"
   ]
  },
  {
   "cell_type": "code",
   "execution_count": 30,
   "metadata": {},
   "outputs": [
    {
     "data": {
      "text/plain": [
       "Text(0, 0.5, '작업시간실제-예측')"
      ]
     },
     "execution_count": 30,
     "metadata": {},
     "output_type": "execute_result"
    },
    {
     "data": {
      "image/png": "[encoded data removed]",
      "text/plain": [
       "<Figure size 1080x576 with 1 Axes>"
      ]
     },
     "metadata": {},
     "output_type": "display_data"
    }
   ],
   "source": [
    "c = [i for i in range(1, 3425, 1)]\n",
    "fig = plt.figure()\n",
    "plt.plot(c,y_test-y_pred, color=\"blue\", linewidth=2.5, linestyle=\"-\")\n",
    "fig.suptitle('Error Terms', fontsize=20) # Plot heading \n",
    "plt.xlabel('총톤수', fontsize=18)              # X-label\n",
    "plt.ylabel('작업시간실제-예측', fontsize=16)    # Y-label"
   ]
  },
  {
   "cell_type": "code",
   "execution_count": 31,
   "metadata": {},
   "outputs": [],
   "source": [
    "from sklearn.metrics import mean_squared_error, r2_score, mean_absolute_error\n",
    "\n",
    "mae = mean_absolute_error(y_test, y_pred)\n",
    "mse = mean_squared_error(y_test, y_pred)\n",
    "r_squared = r2_score(y_test, y_pred)"
   ]
  },
  {
   "cell_type": "code",
   "execution_count": 32,
   "metadata": {},
   "outputs": [
    {
     "name": "stdout",
     "output_type": "stream",
     "text": [
      "Mean_Asolute_Error: 21.869487290230005\n",
      "Mean_Squared_Error : 1068.5209173710255\n",
      "r_square_value : -2.897857698846984e-05\n"
     ]
    }
   ],
   "source": [
    "print('Mean_Asolute_Error:', mae)\n",
    "print('Mean_Squared_Error :' ,mse)\n",
    "print('r_square_value :',r_squared)"
   ]
  },
  {
   "cell_type": "code",
   "execution_count": null,
   "metadata": {},
   "outputs": [],
   "source": []
  }
 ],
 "metadata": {
  "hide_input": false,
  "kernelspec": {
   "display_name": "Python 3",
   "language": "python",
   "name": "python3"
  },
  "language_info": {
   "codemirror_mode": {
    "name": "ipython",
    "version": 3
   },
   "file_extension": ".py",
   "mimetype": "text/x-python",
   "name": "python",
   "nbconvert_exporter": "python",
   "pygments_lexer": "ipython3",
   "version": "3.8.5"
  }
 },
 "nbformat": 4,
 "nbformat_minor": 4
}
