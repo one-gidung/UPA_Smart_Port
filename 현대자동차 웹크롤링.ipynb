{
 "cells": [
  {
   "cell_type": "code",
   "execution_count": 10,
   "metadata": {},
   "outputs": [],
   "source": [
    "# 이미지 다운로드용 웹크롤러 만들기\n",
    "# Step 1. 필요한 모듈과 라이브러리를 로딩하고 검색어를 입력 받습니다\n",
    "from bs4 import BeautifulSoup\n",
    "from selenium import webdriver\n",
    "import urllib.request\n",
    "import urllib\n",
    "import time\n",
    "import sys\n",
    "import re\n",
    "import math\n",
    "import os\n",
    "import random"
   ]
  },
  {
   "cell_type": "code",
   "execution_count": 11,
   "metadata": {},
   "outputs": [
    {
     "name": "stdout",
     "output_type": "stream",
     "text": [
      "사진을 저장할 폴더를 지정하세요(예: c:\\data\\) : C:\\Users\\SenugHee\\Documents\\현대차 이미지\\\n",
      "chrome 드라이버 위치를 지정하세요C:\\data\\chromedriver.exe\n"
     ]
    }
   ],
   "source": [
    "f_dir = input('사진을 저장할 폴더를 지정하세요(예: c:\\data\\) : ')# C:\\Users\\SenugHee\\Documents\\현대차 이미지\\\n",
    "chrome_path = input('chrome 드라이버 위치를 지정하세요') # C:\\data\\chromedriver.exe\n",
    "\n",
    "query_txt ='사진저장'\n",
    "\n",
    "#Step 2. 파일을 저장할 폴더를 생성합니다\n",
    "now = time.localtime()\n",
    "s = '%04d-%02d-%02d-%02d-%02d-%02d' % (now.tm_year, now.tm_mon, now.tm_mday, now.tm_hour, now.tm_min, now.tm_sec)\n",
    "\n",
    "os.chdir(f_dir)\n",
    "os.makedirs(f_dir+s+'-'+query_txt)\n",
    "os.chdir(f_dir+s+'-'+query_txt)\n",
    "f_result_dir = f_dir+s+'-'+query_txt"
   ]
  },
  {
   "cell_type": "code",
   "execution_count": 26,
   "metadata": {},
   "outputs": [
    {
     "data": {
      "text/plain": [
       "[None,\n",
       " None,\n",
       " None,\n",
       " None,\n",
       " None,\n",
       " None,\n",
       " None,\n",
       " None,\n",
       " None,\n",
       " None,\n",
       " None,\n",
       " None,\n",
       " None,\n",
       " None,\n",
       " None,\n",
       " None,\n",
       " None,\n",
       " None,\n",
       " None,\n",
       " None,\n",
       " None,\n",
       " None,\n",
       " None,\n",
       " None,\n",
       " None,\n",
       " None,\n",
       " None,\n",
       " None,\n",
       " None,\n",
       " None,\n",
       " None,\n",
       " None,\n",
       " None,\n",
       " None,\n",
       " None,\n",
       " None,\n",
       " None,\n",
       " None,\n",
       " None,\n",
       " None,\n",
       " None,\n",
       " None,\n",
       " None,\n",
       " None,\n",
       " None,\n",
       " None,\n",
       " None,\n",
       " None,\n",
       " None,\n",
       " None,\n",
       " None,\n",
       " None,\n",
       " None,\n",
       " None,\n",
       " None,\n",
       " None,\n",
       " None,\n",
       " None,\n",
       " None]"
      ]
     },
     "execution_count": 26,
     "metadata": {},
     "output_type": "execute_result"
    }
   ],
   "source": [
    "chrome_path = chrome_path\n",
    "driver = webdriver.Chrome(chrome_path)\n",
    "\n",
    "url = 'https://www.hyundai.com/kr/ko/e/'\n",
    "driver.get(url)\n",
    "time.sleep(2)\n",
    "driver.maximize_window()\n",
    "\n",
    "driver.find_element_by_xpath('//*[@id=\"header\"]/div/div/div[2]/div/ul/li[1]/button').click()\n",
    "time.sleep(2)\n",
    "\n",
    "driver.find_element_by_xpath('//*[@id=\"header\"]/div/div/div[2]/div/ul/li[1]/div/div/div/div[1]/ul/li[1]/ul/li[1]/div/a').click()\n",
    "time.sleep(2)\n",
    "\n",
    "driver.find_element_by_xpath('//*[@id=\"tab-affix\"]/div/div/div[1]/ul/li/ol/li[2]/a').click()\n",
    "time.sleep(2)\n",
    "\n",
    "driver.find_element_by_xpath('//*[@id=\"CN01\"]/div[1]/div/div[1]/button').click()\n",
    "\n",
    "\n",
    "driver.find_element_by_xpath('//*[@id=\"CN01\"]/div[1]/div/div[2]/button[2]').click()\n",
    "\n"
   ]
  },
  {
   "cell_type": "code",
   "execution_count": null,
   "metadata": {},
   "outputs": [],
   "source": []
  }
 ],
 "metadata": {
  "kernelspec": {
   "display_name": "Python 3",
   "language": "python",
   "name": "python3"
  },
  "language_info": {
   "codemirror_mode": {
    "name": "ipython",
    "version": 3
   },
   "file_extension": ".py",
   "mimetype": "text/x-python",
   "name": "python",
   "nbconvert_exporter": "python",
   "pygments_lexer": "ipython3",
   "version": "3.8.5"
  }
 },
 "nbformat": 4,
 "nbformat_minor": 4
}
