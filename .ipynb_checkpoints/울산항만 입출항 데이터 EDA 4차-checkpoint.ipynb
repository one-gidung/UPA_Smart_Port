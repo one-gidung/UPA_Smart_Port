{
 "cells": [
  {
   "cell_type": "code",
   "execution_count": 106,
   "metadata": {},
   "outputs": [],
   "source": [
    "import numpy as np \n",
    "import pandas as pd\n",
    "import matplotlib.pyplot as plt\n",
    "import seaborn as sns\n",
    "plt.style.use('fivethirtyeight')\n",
    "import warnings\n",
    "warnings.filterwarnings('ignore')\n",
    "%matplotlib inline"
   ]
  },
  {
   "cell_type": "code",
   "execution_count": 107,
   "metadata": {},
   "outputs": [
    {
     "name": "stderr",
     "output_type": "stream",
     "text": [
      "'apt'은(는) 내부 또는 외부 명령, 실행할 수 있는 프로그램, 또는\n",
      "배치 파일이 아닙니다.\n"
     ]
    }
   ],
   "source": [
    "import matplotlib as mpl\n",
    "import matplotlib.pyplot as plt\n",
    "\n",
    "%config InlineBackend.figure_format = 'retina' # 폰트가 깨끗하게 보이도록 설정\n",
    "!apt install fonts-nanum\n",
    "\n",
    "import matplotlib.font_manager as fm\n",
    "fontpath = '/usr/share/fonts/truetype/nanum/NanumMyeongjo.ttf'\n",
    "font = fm.FontProperties(fname=fontpath, size=9)\n",
    "\n",
    "import matplotlib as mpl\n",
    "mpl.font_manager._rebuild()\n",
    "mpl.pyplot.rc('font', family='NanumMyeongjo')"
   ]
  },
  {
   "cell_type": "code",
   "execution_count": 108,
   "metadata": {
    "scrolled": true
   },
   "outputs": [
    {
     "data": {
      "text/html": [
       "<div>\n",
       "<style scoped>\n",
       "    .dataframe tbody tr th:only-of-type {\n",
       "        vertical-align: middle;\n",
       "    }\n",
       "\n",
       "    .dataframe tbody tr th {\n",
       "        vertical-align: top;\n",
       "    }\n",
       "\n",
       "    .dataframe thead th {\n",
       "        text-align: right;\n",
       "    }\n",
       "</style>\n",
       "<table border=\"1\" class=\"dataframe\">\n",
       "  <thead>\n",
       "    <tr style=\"text-align: right;\">\n",
       "      <th></th>\n",
       "      <th>선명</th>\n",
       "      <th>호출부호</th>\n",
       "      <th>입항횟수</th>\n",
       "      <th>입출</th>\n",
       "      <th>총톤수</th>\n",
       "      <th>계선</th>\n",
       "      <th>계선장소</th>\n",
       "      <th>입출항 차 (시간)</th>\n",
       "      <th>차항지</th>\n",
       "      <th>전출항지</th>\n",
       "      <th>입항일시</th>\n",
       "      <th>출항일시</th>\n",
       "      <th>MRN 번호</th>\n",
       "    </tr>\n",
       "  </thead>\n",
       "  <tbody>\n",
       "    <tr>\n",
       "      <th>0</th>\n",
       "      <td>TITANIA</td>\n",
       "      <td>9HA2272</td>\n",
       "      <td>1.0</td>\n",
       "      <td>0</td>\n",
       "      <td>74255</td>\n",
       "      <td>MBJ 02</td>\n",
       "      <td>MBJ</td>\n",
       "      <td>116.000000</td>\n",
       "      <td>목포</td>\n",
       "      <td>장승포</td>\n",
       "      <td>2011-12-28 17:15:00</td>\n",
       "      <td>2012-01-02 13:15:00</td>\n",
       "      <td>12EUKOV0179</td>\n",
       "    </tr>\n",
       "    <tr>\n",
       "      <th>1</th>\n",
       "      <td>WESTERN HIGHWAY</td>\n",
       "      <td>3EJK5</td>\n",
       "      <td>1.0</td>\n",
       "      <td>0</td>\n",
       "      <td>39422</td>\n",
       "      <td>MBJ 02</td>\n",
       "      <td>MBJ</td>\n",
       "      <td>107.583333</td>\n",
       "      <td>SINGAPORE</td>\n",
       "      <td>KANDA, FUKUOKA</td>\n",
       "      <td>2011-12-29 05:45:00</td>\n",
       "      <td>2012-01-02 17:20:00</td>\n",
       "      <td>12EVOLU0039</td>\n",
       "    </tr>\n",
       "    <tr>\n",
       "      <th>2</th>\n",
       "      <td>NORTHERN HIGHWAY</td>\n",
       "      <td>V7FT4</td>\n",
       "      <td>1.0</td>\n",
       "      <td>1</td>\n",
       "      <td>39422</td>\n",
       "      <td>MBJ 01</td>\n",
       "      <td>MBJ</td>\n",
       "      <td>38.000000</td>\n",
       "      <td>NEW WESTMINSTER</td>\n",
       "      <td>광양</td>\n",
       "      <td>2012-01-02 07:35:00</td>\n",
       "      <td>2012-01-03 21:35:00</td>\n",
       "      <td>11GLVSU1985</td>\n",
       "    </tr>\n",
       "    <tr>\n",
       "      <th>3</th>\n",
       "      <td>NORTHERN HIGHWAY</td>\n",
       "      <td>V7FT4</td>\n",
       "      <td>1.0</td>\n",
       "      <td>0</td>\n",
       "      <td>39422</td>\n",
       "      <td>MBJ 03</td>\n",
       "      <td>MBJ</td>\n",
       "      <td>38.000000</td>\n",
       "      <td>NEW WESTMINSTER</td>\n",
       "      <td>광양</td>\n",
       "      <td>2012-01-02 07:35:00</td>\n",
       "      <td>2012-01-03 21:35:00</td>\n",
       "      <td>12GLVSU0026</td>\n",
       "    </tr>\n",
       "    <tr>\n",
       "      <th>4</th>\n",
       "      <td>CAR STAR</td>\n",
       "      <td>A8VI6</td>\n",
       "      <td>1.0</td>\n",
       "      <td>0</td>\n",
       "      <td>43790</td>\n",
       "      <td>MBJ 03</td>\n",
       "      <td>MBJ</td>\n",
       "      <td>7.750000</td>\n",
       "      <td>YOKOHAMA</td>\n",
       "      <td>NAGOYA, AICHI</td>\n",
       "      <td>2012-01-02 07:45:00</td>\n",
       "      <td>2012-01-02 15:30:00</td>\n",
       "      <td>12ZIMUECS10</td>\n",
       "    </tr>\n",
       "    <tr>\n",
       "      <th>...</th>\n",
       "      <td>...</td>\n",
       "      <td>...</td>\n",
       "      <td>...</td>\n",
       "      <td>...</td>\n",
       "      <td>...</td>\n",
       "      <td>...</td>\n",
       "      <td>...</td>\n",
       "      <td>...</td>\n",
       "      <td>...</td>\n",
       "      <td>...</td>\n",
       "      <td>...</td>\n",
       "      <td>...</td>\n",
       "      <td>...</td>\n",
       "    </tr>\n",
       "    <tr>\n",
       "      <th>11428</th>\n",
       "      <td>PRESTIGE ACE</td>\n",
       "      <td>H3NG</td>\n",
       "      <td>NaN</td>\n",
       "      <td>1</td>\n",
       "      <td>55878</td>\n",
       "      <td>MBJ 0n</td>\n",
       "      <td>MBJ</td>\n",
       "      <td>15.750000</td>\n",
       "      <td>광양</td>\n",
       "      <td>SINGAPORE</td>\n",
       "      <td>2021-08-16 06:15:00</td>\n",
       "      <td>2021-08-16 22:00:00</td>\n",
       "      <td>21GLVSE147I</td>\n",
       "    </tr>\n",
       "    <tr>\n",
       "      <th>11429</th>\n",
       "      <td>PASSAMA</td>\n",
       "      <td>ZDNC6</td>\n",
       "      <td>NaN</td>\n",
       "      <td>1</td>\n",
       "      <td>47053</td>\n",
       "      <td>MBJ 0n</td>\n",
       "      <td>MBJ</td>\n",
       "      <td>73.000000</td>\n",
       "      <td>MOJI/KITAKYUSHU</td>\n",
       "      <td>마산</td>\n",
       "      <td>2021-08-16 08:00:00</td>\n",
       "      <td>2021-08-19 09:00:00</td>\n",
       "      <td>21L53KI448I</td>\n",
       "    </tr>\n",
       "    <tr>\n",
       "      <th>11430</th>\n",
       "      <td>아세안 메저스티호</td>\n",
       "      <td>DSMZ8</td>\n",
       "      <td>NaN</td>\n",
       "      <td>1</td>\n",
       "      <td>71383</td>\n",
       "      <td>MBJ 0n</td>\n",
       "      <td>MBJ</td>\n",
       "      <td>39.750000</td>\n",
       "      <td>평택.당진</td>\n",
       "      <td>마산</td>\n",
       "      <td>2021-08-17 06:15:00</td>\n",
       "      <td>2021-08-18 22:00:00</td>\n",
       "      <td>21EUKOV913I</td>\n",
       "    </tr>\n",
       "    <tr>\n",
       "      <th>11431</th>\n",
       "      <td>MORNING LILY</td>\n",
       "      <td>3FDI5</td>\n",
       "      <td>NaN</td>\n",
       "      <td>1</td>\n",
       "      <td>70853</td>\n",
       "      <td>MBJ 0n</td>\n",
       "      <td>MBJ</td>\n",
       "      <td>15.750000</td>\n",
       "      <td>마산</td>\n",
       "      <td>평택.당진</td>\n",
       "      <td>2021-08-18 06:15:00</td>\n",
       "      <td>2021-08-18 22:00:00</td>\n",
       "      <td>21EUKOV921I</td>\n",
       "    </tr>\n",
       "    <tr>\n",
       "      <th>11432</th>\n",
       "      <td>모닝 세실</td>\n",
       "      <td>3FHK6</td>\n",
       "      <td>NaN</td>\n",
       "      <td>1</td>\n",
       "      <td>60876</td>\n",
       "      <td>MBJ 0n</td>\n",
       "      <td>MBJ</td>\n",
       "      <td>15.750000</td>\n",
       "      <td>BRUNSWICK, GA</td>\n",
       "      <td>목포</td>\n",
       "      <td>2021-08-19 06:15:00</td>\n",
       "      <td>2021-08-19 22:00:00</td>\n",
       "      <td>21EUKOV916I</td>\n",
       "    </tr>\n",
       "  </tbody>\n",
       "</table>\n",
       "<p>11433 rows × 13 columns</p>\n",
       "</div>"
      ],
      "text/plain": [
       "                     선명     호출부호  입항횟수  입출    총톤수      계선 계선장소  입출항 차 (시간)  \\\n",
       "0               TITANIA  9HA2272   1.0   0  74255  MBJ 02  MBJ  116.000000   \n",
       "1       WESTERN HIGHWAY    3EJK5   1.0   0  39422  MBJ 02  MBJ  107.583333   \n",
       "2      NORTHERN HIGHWAY    V7FT4   1.0   1  39422  MBJ 01  MBJ   38.000000   \n",
       "3      NORTHERN HIGHWAY    V7FT4   1.0   0  39422  MBJ 03  MBJ   38.000000   \n",
       "4              CAR STAR    A8VI6   1.0   0  43790  MBJ 03  MBJ    7.750000   \n",
       "...                 ...      ...   ...  ..    ...     ...  ...         ...   \n",
       "11428      PRESTIGE ACE     H3NG   NaN   1  55878  MBJ 0n  MBJ   15.750000   \n",
       "11429           PASSAMA    ZDNC6   NaN   1  47053  MBJ 0n  MBJ   73.000000   \n",
       "11430         아세안 메저스티호    DSMZ8   NaN   1  71383  MBJ 0n  MBJ   39.750000   \n",
       "11431      MORNING LILY    3FDI5   NaN   1  70853  MBJ 0n  MBJ   15.750000   \n",
       "11432             모닝 세실    3FHK6   NaN   1  60876  MBJ 0n  MBJ   15.750000   \n",
       "\n",
       "                   차항지            전출항지                입항일시  \\\n",
       "0                   목포             장승포 2011-12-28 17:15:00   \n",
       "1            SINGAPORE  KANDA, FUKUOKA 2011-12-29 05:45:00   \n",
       "2      NEW WESTMINSTER              광양 2012-01-02 07:35:00   \n",
       "3      NEW WESTMINSTER              광양 2012-01-02 07:35:00   \n",
       "4             YOKOHAMA   NAGOYA, AICHI 2012-01-02 07:45:00   \n",
       "...                ...             ...                 ...   \n",
       "11428               광양       SINGAPORE 2021-08-16 06:15:00   \n",
       "11429  MOJI/KITAKYUSHU              마산 2021-08-16 08:00:00   \n",
       "11430            평택.당진              마산 2021-08-17 06:15:00   \n",
       "11431               마산           평택.당진 2021-08-18 06:15:00   \n",
       "11432    BRUNSWICK, GA              목포 2021-08-19 06:15:00   \n",
       "\n",
       "                     출항일시       MRN 번호  \n",
       "0     2012-01-02 13:15:00  12EUKOV0179  \n",
       "1     2012-01-02 17:20:00  12EVOLU0039  \n",
       "2     2012-01-03 21:35:00  11GLVSU1985  \n",
       "3     2012-01-03 21:35:00  12GLVSU0026  \n",
       "4     2012-01-02 15:30:00  12ZIMUECS10  \n",
       "...                   ...          ...  \n",
       "11428 2021-08-16 22:00:00  21GLVSE147I  \n",
       "11429 2021-08-19 09:00:00  21L53KI448I  \n",
       "11430 2021-08-18 22:00:00  21EUKOV913I  \n",
       "11431 2021-08-18 22:00:00  21EUKOV921I  \n",
       "11432 2021-08-19 22:00:00  21EUKOV916I  \n",
       "\n",
       "[11433 rows x 13 columns]"
      ]
     },
     "execution_count": 108,
     "metadata": {},
     "output_type": "execute_result"
    }
   ],
   "source": [
    "# 데이터 불러오기\n",
    "df = pd.read_excel('자동차항만입출항전처리데이터.xlsx', index_col=0)\n",
    "# 컬럼 순서 바꾸기 및 필요없는 열 제거\n",
    "df = df[['선명', '호출부호', '입항횟수', '입출', '총톤수', '계선', '계선장소', '입출항 차 (시간)', '차항지', '전출항지', '입항일시', '출항일시', 'MRN 번호']]\n",
    "df = df.reset_index(drop=True)\n",
    "df"
   ]
  },
  {
   "cell_type": "code",
   "execution_count": 109,
   "metadata": {},
   "outputs": [
    {
     "name": "stdout",
     "output_type": "stream",
     "text": [
      "<class 'pandas.core.frame.DataFrame'>\n",
      "RangeIndex: 11433 entries, 0 to 11432\n",
      "Data columns (total 13 columns):\n",
      " #   Column      Non-Null Count  Dtype         \n",
      "---  ------      --------------  -----         \n",
      " 0   선명          11433 non-null  object        \n",
      " 1   호출부호        11433 non-null  object        \n",
      " 2   입항횟수        10839 non-null  float64       \n",
      " 3   입출          11433 non-null  int64         \n",
      " 4   총톤수         11433 non-null  int64         \n",
      " 5   계선          11433 non-null  object        \n",
      " 6   계선장소        11433 non-null  object        \n",
      " 7   입출항 차 (시간)  11433 non-null  float64       \n",
      " 8   차항지         11431 non-null  object        \n",
      " 9   전출항지        11431 non-null  object        \n",
      " 10  입항일시        11433 non-null  datetime64[ns]\n",
      " 11  출항일시        11433 non-null  datetime64[ns]\n",
      " 12  MRN 번호      11431 non-null  object        \n",
      "dtypes: datetime64[ns](2), float64(2), int64(2), object(7)\n",
      "memory usage: 1.1+ MB\n"
     ]
    }
   ],
   "source": [
    "df.info()"
   ]
  },
  {
   "cell_type": "code",
   "execution_count": 110,
   "metadata": {},
   "outputs": [
    {
     "data": {
      "text/plain": [
       "선명              0\n",
       "호출부호            0\n",
       "입항횟수          594\n",
       "입출              0\n",
       "총톤수             0\n",
       "계선              0\n",
       "계선장소            0\n",
       "입출항 차 (시간)      0\n",
       "차항지             2\n",
       "전출항지            2\n",
       "입항일시            0\n",
       "출항일시            0\n",
       "MRN 번호          2\n",
       "dtype: int64"
      ]
     },
     "execution_count": 110,
     "metadata": {},
     "output_type": "execute_result"
    }
   ],
   "source": [
    "df.isnull().sum()"
   ]
  },
  {
   "cell_type": "markdown",
   "metadata": {},
   "source": [
    "호출부호: \n",
    "선명\n",
    "입항횟수: 카테고리\n",
    "입출: 0, 1\n",
    "총톤수\n",
    "입항일시\n",
    "출항일시"
   ]
  },
  {
   "cell_type": "code",
   "execution_count": 111,
   "metadata": {},
   "outputs": [
    {
     "data": {
      "text/html": [
       "<div>\n",
       "<style scoped>\n",
       "    .dataframe tbody tr th:only-of-type {\n",
       "        vertical-align: middle;\n",
       "    }\n",
       "\n",
       "    .dataframe tbody tr th {\n",
       "        vertical-align: top;\n",
       "    }\n",
       "\n",
       "    .dataframe thead th {\n",
       "        text-align: right;\n",
       "    }\n",
       "</style>\n",
       "<table border=\"1\" class=\"dataframe\">\n",
       "  <thead>\n",
       "    <tr style=\"text-align: right;\">\n",
       "      <th></th>\n",
       "      <th>입항횟수</th>\n",
       "      <th>입출</th>\n",
       "      <th>총톤수</th>\n",
       "      <th>입출항 차 (시간)</th>\n",
       "    </tr>\n",
       "  </thead>\n",
       "  <tbody>\n",
       "    <tr>\n",
       "      <th>count</th>\n",
       "      <td>10839.000000</td>\n",
       "      <td>11433.000000</td>\n",
       "      <td>11433.000000</td>\n",
       "      <td>11433.000000</td>\n",
       "    </tr>\n",
       "    <tr>\n",
       "      <th>mean</th>\n",
       "      <td>2.404927</td>\n",
       "      <td>0.500219</td>\n",
       "      <td>55256.161462</td>\n",
       "      <td>29.337657</td>\n",
       "    </tr>\n",
       "    <tr>\n",
       "      <th>std</th>\n",
       "      <td>1.663348</td>\n",
       "      <td>0.500022</td>\n",
       "      <td>11678.768105</td>\n",
       "      <td>33.435879</td>\n",
       "    </tr>\n",
       "    <tr>\n",
       "      <th>min</th>\n",
       "      <td>1.000000</td>\n",
       "      <td>0.000000</td>\n",
       "      <td>4464.000000</td>\n",
       "      <td>0.300000</td>\n",
       "    </tr>\n",
       "    <tr>\n",
       "      <th>25%</th>\n",
       "      <td>1.000000</td>\n",
       "      <td>0.000000</td>\n",
       "      <td>47654.000000</td>\n",
       "      <td>9.050000</td>\n",
       "    </tr>\n",
       "    <tr>\n",
       "      <th>50%</th>\n",
       "      <td>2.000000</td>\n",
       "      <td>1.000000</td>\n",
       "      <td>58631.000000</td>\n",
       "      <td>15.166667</td>\n",
       "    </tr>\n",
       "    <tr>\n",
       "      <th>75%</th>\n",
       "      <td>3.000000</td>\n",
       "      <td>1.000000</td>\n",
       "      <td>60876.000000</td>\n",
       "      <td>34.416667</td>\n",
       "    </tr>\n",
       "    <tr>\n",
       "      <th>max</th>\n",
       "      <td>13.000000</td>\n",
       "      <td>1.000000</td>\n",
       "      <td>76420.000000</td>\n",
       "      <td>382.500000</td>\n",
       "    </tr>\n",
       "  </tbody>\n",
       "</table>\n",
       "</div>"
      ],
      "text/plain": [
       "               입항횟수            입출           총톤수    입출항 차 (시간)\n",
       "count  10839.000000  11433.000000  11433.000000  11433.000000\n",
       "mean       2.404927      0.500219  55256.161462     29.337657\n",
       "std        1.663348      0.500022  11678.768105     33.435879\n",
       "min        1.000000      0.000000   4464.000000      0.300000\n",
       "25%        1.000000      0.000000  47654.000000      9.050000\n",
       "50%        2.000000      1.000000  58631.000000     15.166667\n",
       "75%        3.000000      1.000000  60876.000000     34.416667\n",
       "max       13.000000      1.000000  76420.000000    382.500000"
      ]
     },
     "execution_count": 111,
     "metadata": {},
     "output_type": "execute_result"
    }
   ],
   "source": [
    "df.describe()"
   ]
  },
  {
   "cell_type": "code",
   "execution_count": 112,
   "metadata": {},
   "outputs": [
    {
     "data": {
      "text/plain": [
       "9V8797    80\n",
       "D7VV      80\n",
       "3FWJ      76\n",
       "D7MI      76\n",
       "3EZF3     76\n",
       "          ..\n",
       "A8YD8      2\n",
       "C6ZD2      2\n",
       "3FKV8      2\n",
       "H3QA       2\n",
       "V7UZ3      2\n",
       "Name: 호출부호, Length: 562, dtype: int64"
      ]
     },
     "execution_count": 112,
     "metadata": {},
     "output_type": "execute_result"
    }
   ],
   "source": [
    "df['호출부호'].value_counts()"
   ]
  },
  {
   "cell_type": "code",
   "execution_count": 113,
   "metadata": {},
   "outputs": [
    {
     "data": {
      "text/plain": [
       "DON QUIJOTE         80\n",
       "K.ASIAN BEAUTY      80\n",
       "모닝 레나               76\n",
       "MORNING LUCY        76\n",
       "MORNING CLAIRE      76\n",
       "                    ..\n",
       "LIBERTY ACE          2\n",
       "GRANDE HALIFAX       2\n",
       "NEPTUNE THALASSA     2\n",
       "GRANDE LAGOS         2\n",
       "HOEGH CHENNAI        2\n",
       "Name: 선명, Length: 560, dtype: int64"
      ]
     },
     "execution_count": 113,
     "metadata": {},
     "output_type": "execute_result"
    }
   ],
   "source": [
    "df['선명'].value_counts()"
   ]
  },
  {
   "cell_type": "code",
   "execution_count": 114,
   "metadata": {},
   "outputs": [
    {
     "data": {
      "text/plain": [
       "<AxesSubplot:xlabel='입항횟수', ylabel='count'>"
      ]
     },
     "execution_count": 114,
     "metadata": {},
     "output_type": "execute_result"
    },
    {
     "data": {
      "image/png": "[encoded data removed]",
      "text/plain": [
       "<Figure size 432x288 with 1 Axes>"
      ]
     },
     "metadata": {
      "image/png": {
       "height": 260,
       "width": 435
      },
      "needs_background": "light"
     },
     "output_type": "display_data"
    }
   ],
   "source": [
    "sns.countplot('입항횟수', data=df)"
   ]
  },
  {
   "cell_type": "code",
   "execution_count": 115,
   "metadata": {},
   "outputs": [
    {
     "data": {
      "text/plain": [
       "<AxesSubplot:xlabel='count', ylabel='계선'>"
      ]
     },
     "execution_count": 115,
     "metadata": {},
     "output_type": "execute_result"
    },
    {
     "data": {
      "image/png": "[encoded data removed]",
      "text/plain": [
       "<Figure size 432x288 with 1 Axes>"
      ]
     },
     "metadata": {
      "image/png": {
       "height": 260,
       "width": 450
      },
      "needs_background": "light"
     },
     "output_type": "display_data"
    }
   ],
   "source": [
    "sns.countplot(y = df['계선'])"
   ]
  },
  {
   "cell_type": "code",
   "execution_count": 116,
   "metadata": {},
   "outputs": [
    {
     "data": {
      "text/plain": [
       "<AxesSubplot:xlabel='계선', ylabel='count'>"
      ]
     },
     "execution_count": 116,
     "metadata": {},
     "output_type": "execute_result"
    },
    {
     "data": {
      "image/png": "[encoded data removed]",
      "text/plain": [
       "<Figure size 432x288 with 1 Axes>"
      ]
     },
     "metadata": {
      "image/png": {
       "height": 260,
       "width": 447
      },
      "needs_background": "light"
     },
     "output_type": "display_data"
    }
   ],
   "source": [
    "# 계선장소에 너무 쓸데없는 값들이 많이 있다.\n",
    "sns.countplot(df['계선'])"
   ]
  },
  {
   "cell_type": "code",
   "execution_count": 117,
   "metadata": {},
   "outputs": [
    {
     "data": {
      "text/html": [
       "<div>\n",
       "<style scoped>\n",
       "    .dataframe tbody tr th:only-of-type {\n",
       "        vertical-align: middle;\n",
       "    }\n",
       "\n",
       "    .dataframe tbody tr th {\n",
       "        vertical-align: top;\n",
       "    }\n",
       "\n",
       "    .dataframe thead th {\n",
       "        text-align: right;\n",
       "    }\n",
       "</style>\n",
       "<table border=\"1\" class=\"dataframe\">\n",
       "  <thead>\n",
       "    <tr style=\"text-align: right;\">\n",
       "      <th></th>\n",
       "      <th>계선장소</th>\n",
       "    </tr>\n",
       "  </thead>\n",
       "  <tbody>\n",
       "    <tr>\n",
       "      <th>MBJ</th>\n",
       "      <td>9454</td>\n",
       "    </tr>\n",
       "    <tr>\n",
       "      <th>MB6</th>\n",
       "      <td>1409</td>\n",
       "    </tr>\n",
       "    <tr>\n",
       "      <th>MBP</th>\n",
       "      <td>366</td>\n",
       "    </tr>\n",
       "    <tr>\n",
       "      <th>MB5</th>\n",
       "      <td>116</td>\n",
       "    </tr>\n",
       "    <tr>\n",
       "      <th>WAE</th>\n",
       "      <td>70</td>\n",
       "    </tr>\n",
       "    <tr>\n",
       "      <th>MQM</th>\n",
       "      <td>6</td>\n",
       "    </tr>\n",
       "    <tr>\n",
       "      <th>MB8</th>\n",
       "      <td>3</td>\n",
       "    </tr>\n",
       "    <tr>\n",
       "      <th>MB2</th>\n",
       "      <td>2</td>\n",
       "    </tr>\n",
       "    <tr>\n",
       "      <th>MB7</th>\n",
       "      <td>2</td>\n",
       "    </tr>\n",
       "    <tr>\n",
       "      <th>MBC</th>\n",
       "      <td>1</td>\n",
       "    </tr>\n",
       "    <tr>\n",
       "      <th>WAT</th>\n",
       "      <td>1</td>\n",
       "    </tr>\n",
       "    <tr>\n",
       "      <th>MBO</th>\n",
       "      <td>1</td>\n",
       "    </tr>\n",
       "    <tr>\n",
       "      <th>MBN</th>\n",
       "      <td>1</td>\n",
       "    </tr>\n",
       "    <tr>\n",
       "      <th>MQP</th>\n",
       "      <td>1</td>\n",
       "    </tr>\n",
       "  </tbody>\n",
       "</table>\n",
       "</div>"
      ],
      "text/plain": [
       "     계선장소\n",
       "MBJ  9454\n",
       "MB6  1409\n",
       "MBP   366\n",
       "MB5   116\n",
       "WAE    70\n",
       "MQM     6\n",
       "MB8     3\n",
       "MB2     2\n",
       "MB7     2\n",
       "MBC     1\n",
       "WAT     1\n",
       "MBO     1\n",
       "MBN     1\n",
       "MQP     1"
      ]
     },
     "execution_count": 117,
     "metadata": {},
     "output_type": "execute_result"
    }
   ],
   "source": [
    "a = pd.DataFrame(df['계선장소'].value_counts())\n",
    "a"
   ]
  },
  {
   "cell_type": "code",
   "execution_count": 118,
   "metadata": {
    "scrolled": true
   },
   "outputs": [
    {
     "data": {
      "text/plain": [
       "['MQM', 'MB8', 'MB2', 'MB7', 'MBC', 'WAT', 'MBO', 'MBN', 'MQP']"
      ]
     },
     "execution_count": 118,
     "metadata": {},
     "output_type": "execute_result"
    }
   ],
   "source": [
    "# 총 데이터가 9년반\n",
    "# 누적 입항횟수가 20 미만 계선장소 행 제거\n",
    "DelRow = a.query('계선장소 <= 10').index.tolist()\n",
    "DelRow"
   ]
  },
  {
   "cell_type": "code",
   "execution_count": 119,
   "metadata": {},
   "outputs": [
    {
     "data": {
      "text/plain": [
       "0        MBJ\n",
       "1        MBJ\n",
       "2        MBJ\n",
       "3        MBJ\n",
       "4        MBJ\n",
       "        ... \n",
       "11428    MBJ\n",
       "11429    MBJ\n",
       "11430    MBJ\n",
       "11431    MBJ\n",
       "11432    MBJ\n",
       "Name: 계선장소, Length: 11433, dtype: object"
      ]
     },
     "execution_count": 119,
     "metadata": {},
     "output_type": "execute_result"
    }
   ],
   "source": [
    "df['계선장소']"
   ]
  },
  {
   "cell_type": "code",
   "execution_count": 120,
   "metadata": {},
   "outputs": [
    {
     "data": {
      "text/plain": [
       "False"
      ]
     },
     "execution_count": 120,
     "metadata": {},
     "output_type": "execute_result"
    }
   ],
   "source": [
    "df['계선장소'].iloc[1] in DelRow"
   ]
  },
  {
   "cell_type": "code",
   "execution_count": 121,
   "metadata": {},
   "outputs": [],
   "source": [
    "if df['계선장소'].iloc[4] in DelRow:\n",
    "        print(d)"
   ]
  },
  {
   "cell_type": "code",
   "execution_count": 124,
   "metadata": {},
   "outputs": [
    {
     "data": {
      "text/html": [
       "<div>\n",
       "<style scoped>\n",
       "    .dataframe tbody tr th:only-of-type {\n",
       "        vertical-align: middle;\n",
       "    }\n",
       "\n",
       "    .dataframe tbody tr th {\n",
       "        vertical-align: top;\n",
       "    }\n",
       "\n",
       "    .dataframe thead th {\n",
       "        text-align: right;\n",
       "    }\n",
       "</style>\n",
       "<table border=\"1\" class=\"dataframe\">\n",
       "  <thead>\n",
       "    <tr style=\"text-align: right;\">\n",
       "      <th></th>\n",
       "      <th>선명</th>\n",
       "      <th>호출부호</th>\n",
       "      <th>입항횟수</th>\n",
       "      <th>입출</th>\n",
       "      <th>총톤수</th>\n",
       "      <th>계선</th>\n",
       "      <th>계선장소</th>\n",
       "      <th>입출항 차 (시간)</th>\n",
       "      <th>차항지</th>\n",
       "      <th>전출항지</th>\n",
       "      <th>입항일시</th>\n",
       "      <th>출항일시</th>\n",
       "      <th>MRN 번호</th>\n",
       "    </tr>\n",
       "  </thead>\n",
       "  <tbody>\n",
       "    <tr>\n",
       "      <th>0</th>\n",
       "      <td>TITANIA</td>\n",
       "      <td>9HA2272</td>\n",
       "      <td>1.0</td>\n",
       "      <td>0</td>\n",
       "      <td>74255</td>\n",
       "      <td>MBJ 02</td>\n",
       "      <td>MBJ</td>\n",
       "      <td>116.000000</td>\n",
       "      <td>목포</td>\n",
       "      <td>장승포</td>\n",
       "      <td>2011-12-28 17:15:00</td>\n",
       "      <td>2012-01-02 13:15:00</td>\n",
       "      <td>12EUKOV0179</td>\n",
       "    </tr>\n",
       "    <tr>\n",
       "      <th>1</th>\n",
       "      <td>WESTERN HIGHWAY</td>\n",
       "      <td>3EJK5</td>\n",
       "      <td>1.0</td>\n",
       "      <td>0</td>\n",
       "      <td>39422</td>\n",
       "      <td>MBJ 02</td>\n",
       "      <td>MBJ</td>\n",
       "      <td>107.583333</td>\n",
       "      <td>SINGAPORE</td>\n",
       "      <td>KANDA, FUKUOKA</td>\n",
       "      <td>2011-12-29 05:45:00</td>\n",
       "      <td>2012-01-02 17:20:00</td>\n",
       "      <td>12EVOLU0039</td>\n",
       "    </tr>\n",
       "    <tr>\n",
       "      <th>2</th>\n",
       "      <td>NORTHERN HIGHWAY</td>\n",
       "      <td>V7FT4</td>\n",
       "      <td>1.0</td>\n",
       "      <td>1</td>\n",
       "      <td>39422</td>\n",
       "      <td>MBJ 01</td>\n",
       "      <td>MBJ</td>\n",
       "      <td>38.000000</td>\n",
       "      <td>NEW WESTMINSTER</td>\n",
       "      <td>광양</td>\n",
       "      <td>2012-01-02 07:35:00</td>\n",
       "      <td>2012-01-03 21:35:00</td>\n",
       "      <td>11GLVSU1985</td>\n",
       "    </tr>\n",
       "    <tr>\n",
       "      <th>3</th>\n",
       "      <td>NORTHERN HIGHWAY</td>\n",
       "      <td>V7FT4</td>\n",
       "      <td>1.0</td>\n",
       "      <td>0</td>\n",
       "      <td>39422</td>\n",
       "      <td>MBJ 03</td>\n",
       "      <td>MBJ</td>\n",
       "      <td>38.000000</td>\n",
       "      <td>NEW WESTMINSTER</td>\n",
       "      <td>광양</td>\n",
       "      <td>2012-01-02 07:35:00</td>\n",
       "      <td>2012-01-03 21:35:00</td>\n",
       "      <td>12GLVSU0026</td>\n",
       "    </tr>\n",
       "    <tr>\n",
       "      <th>4</th>\n",
       "      <td>CAR STAR</td>\n",
       "      <td>A8VI6</td>\n",
       "      <td>1.0</td>\n",
       "      <td>0</td>\n",
       "      <td>43790</td>\n",
       "      <td>MBJ 03</td>\n",
       "      <td>MBJ</td>\n",
       "      <td>7.750000</td>\n",
       "      <td>YOKOHAMA</td>\n",
       "      <td>NAGOYA, AICHI</td>\n",
       "      <td>2012-01-02 07:45:00</td>\n",
       "      <td>2012-01-02 15:30:00</td>\n",
       "      <td>12ZIMUECS10</td>\n",
       "    </tr>\n",
       "    <tr>\n",
       "      <th>...</th>\n",
       "      <td>...</td>\n",
       "      <td>...</td>\n",
       "      <td>...</td>\n",
       "      <td>...</td>\n",
       "      <td>...</td>\n",
       "      <td>...</td>\n",
       "      <td>...</td>\n",
       "      <td>...</td>\n",
       "      <td>...</td>\n",
       "      <td>...</td>\n",
       "      <td>...</td>\n",
       "      <td>...</td>\n",
       "      <td>...</td>\n",
       "    </tr>\n",
       "    <tr>\n",
       "      <th>11410</th>\n",
       "      <td>PRESTIGE ACE</td>\n",
       "      <td>H3NG</td>\n",
       "      <td>NaN</td>\n",
       "      <td>1</td>\n",
       "      <td>55878</td>\n",
       "      <td>MBJ 0n</td>\n",
       "      <td>MBJ</td>\n",
       "      <td>15.750000</td>\n",
       "      <td>광양</td>\n",
       "      <td>SINGAPORE</td>\n",
       "      <td>2021-08-16 06:15:00</td>\n",
       "      <td>2021-08-16 22:00:00</td>\n",
       "      <td>21GLVSE147I</td>\n",
       "    </tr>\n",
       "    <tr>\n",
       "      <th>11411</th>\n",
       "      <td>PASSAMA</td>\n",
       "      <td>ZDNC6</td>\n",
       "      <td>NaN</td>\n",
       "      <td>1</td>\n",
       "      <td>47053</td>\n",
       "      <td>MBJ 0n</td>\n",
       "      <td>MBJ</td>\n",
       "      <td>73.000000</td>\n",
       "      <td>MOJI/KITAKYUSHU</td>\n",
       "      <td>마산</td>\n",
       "      <td>2021-08-16 08:00:00</td>\n",
       "      <td>2021-08-19 09:00:00</td>\n",
       "      <td>21L53KI448I</td>\n",
       "    </tr>\n",
       "    <tr>\n",
       "      <th>11412</th>\n",
       "      <td>아세안 메저스티호</td>\n",
       "      <td>DSMZ8</td>\n",
       "      <td>NaN</td>\n",
       "      <td>1</td>\n",
       "      <td>71383</td>\n",
       "      <td>MBJ 0n</td>\n",
       "      <td>MBJ</td>\n",
       "      <td>39.750000</td>\n",
       "      <td>평택.당진</td>\n",
       "      <td>마산</td>\n",
       "      <td>2021-08-17 06:15:00</td>\n",
       "      <td>2021-08-18 22:00:00</td>\n",
       "      <td>21EUKOV913I</td>\n",
       "    </tr>\n",
       "    <tr>\n",
       "      <th>11413</th>\n",
       "      <td>MORNING LILY</td>\n",
       "      <td>3FDI5</td>\n",
       "      <td>NaN</td>\n",
       "      <td>1</td>\n",
       "      <td>70853</td>\n",
       "      <td>MBJ 0n</td>\n",
       "      <td>MBJ</td>\n",
       "      <td>15.750000</td>\n",
       "      <td>마산</td>\n",
       "      <td>평택.당진</td>\n",
       "      <td>2021-08-18 06:15:00</td>\n",
       "      <td>2021-08-18 22:00:00</td>\n",
       "      <td>21EUKOV921I</td>\n",
       "    </tr>\n",
       "    <tr>\n",
       "      <th>11414</th>\n",
       "      <td>모닝 세실</td>\n",
       "      <td>3FHK6</td>\n",
       "      <td>NaN</td>\n",
       "      <td>1</td>\n",
       "      <td>60876</td>\n",
       "      <td>MBJ 0n</td>\n",
       "      <td>MBJ</td>\n",
       "      <td>15.750000</td>\n",
       "      <td>BRUNSWICK, GA</td>\n",
       "      <td>목포</td>\n",
       "      <td>2021-08-19 06:15:00</td>\n",
       "      <td>2021-08-19 22:00:00</td>\n",
       "      <td>21EUKOV916I</td>\n",
       "    </tr>\n",
       "  </tbody>\n",
       "</table>\n",
       "<p>11415 rows × 13 columns</p>\n",
       "</div>"
      ],
      "text/plain": [
       "                     선명     호출부호  입항횟수  입출    총톤수      계선 계선장소  입출항 차 (시간)  \\\n",
       "0               TITANIA  9HA2272   1.0   0  74255  MBJ 02  MBJ  116.000000   \n",
       "1       WESTERN HIGHWAY    3EJK5   1.0   0  39422  MBJ 02  MBJ  107.583333   \n",
       "2      NORTHERN HIGHWAY    V7FT4   1.0   1  39422  MBJ 01  MBJ   38.000000   \n",
       "3      NORTHERN HIGHWAY    V7FT4   1.0   0  39422  MBJ 03  MBJ   38.000000   \n",
       "4              CAR STAR    A8VI6   1.0   0  43790  MBJ 03  MBJ    7.750000   \n",
       "...                 ...      ...   ...  ..    ...     ...  ...         ...   \n",
       "11410      PRESTIGE ACE     H3NG   NaN   1  55878  MBJ 0n  MBJ   15.750000   \n",
       "11411           PASSAMA    ZDNC6   NaN   1  47053  MBJ 0n  MBJ   73.000000   \n",
       "11412         아세안 메저스티호    DSMZ8   NaN   1  71383  MBJ 0n  MBJ   39.750000   \n",
       "11413      MORNING LILY    3FDI5   NaN   1  70853  MBJ 0n  MBJ   15.750000   \n",
       "11414             모닝 세실    3FHK6   NaN   1  60876  MBJ 0n  MBJ   15.750000   \n",
       "\n",
       "                   차항지            전출항지                입항일시  \\\n",
       "0                   목포             장승포 2011-12-28 17:15:00   \n",
       "1            SINGAPORE  KANDA, FUKUOKA 2011-12-29 05:45:00   \n",
       "2      NEW WESTMINSTER              광양 2012-01-02 07:35:00   \n",
       "3      NEW WESTMINSTER              광양 2012-01-02 07:35:00   \n",
       "4             YOKOHAMA   NAGOYA, AICHI 2012-01-02 07:45:00   \n",
       "...                ...             ...                 ...   \n",
       "11410               광양       SINGAPORE 2021-08-16 06:15:00   \n",
       "11411  MOJI/KITAKYUSHU              마산 2021-08-16 08:00:00   \n",
       "11412            평택.당진              마산 2021-08-17 06:15:00   \n",
       "11413               마산           평택.당진 2021-08-18 06:15:00   \n",
       "11414    BRUNSWICK, GA              목포 2021-08-19 06:15:00   \n",
       "\n",
       "                     출항일시       MRN 번호  \n",
       "0     2012-01-02 13:15:00  12EUKOV0179  \n",
       "1     2012-01-02 17:20:00  12EVOLU0039  \n",
       "2     2012-01-03 21:35:00  11GLVSU1985  \n",
       "3     2012-01-03 21:35:00  12GLVSU0026  \n",
       "4     2012-01-02 15:30:00  12ZIMUECS10  \n",
       "...                   ...          ...  \n",
       "11410 2021-08-16 22:00:00  21GLVSE147I  \n",
       "11411 2021-08-19 09:00:00  21L53KI448I  \n",
       "11412 2021-08-18 22:00:00  21EUKOV913I  \n",
       "11413 2021-08-18 22:00:00  21EUKOV921I  \n",
       "11414 2021-08-19 22:00:00  21EUKOV916I  \n",
       "\n",
       "[11415 rows x 13 columns]"
      ]
     },
     "execution_count": 124,
     "metadata": {},
     "output_type": "execute_result"
    }
   ],
   "source": [
    "# 필요없는 계선장소인 행들의 인덱스 저장 후 drop\n",
    "loc = []\n",
    "for i in range(len(df['계선장소'])):\n",
    "    if df['계선장소'].iloc[i] in DelRow:\n",
    "        loc.append(i)\n",
    "df.drop(loc, inplace=True)\n",
    "df.reset_index(drop=True)"
   ]
  },
  {
   "cell_type": "code",
   "execution_count": 125,
   "metadata": {},
   "outputs": [
    {
     "data": {
      "text/html": [
       "<div>\n",
       "<style scoped>\n",
       "    .dataframe tbody tr th:only-of-type {\n",
       "        vertical-align: middle;\n",
       "    }\n",
       "\n",
       "    .dataframe tbody tr th {\n",
       "        vertical-align: top;\n",
       "    }\n",
       "\n",
       "    .dataframe thead th {\n",
       "        text-align: right;\n",
       "    }\n",
       "</style>\n",
       "<table border=\"1\" class=\"dataframe\">\n",
       "  <thead>\n",
       "    <tr style=\"text-align: right;\">\n",
       "      <th></th>\n",
       "      <th>선명</th>\n",
       "      <th>호출부호</th>\n",
       "      <th>입항횟수</th>\n",
       "      <th>입출</th>\n",
       "      <th>총톤수</th>\n",
       "      <th>계선</th>\n",
       "      <th>계선장소</th>\n",
       "      <th>입출항 차 (시간)</th>\n",
       "      <th>차항지</th>\n",
       "      <th>전출항지</th>\n",
       "      <th>입항일시</th>\n",
       "      <th>출항일시</th>\n",
       "      <th>MRN 번호</th>\n",
       "    </tr>\n",
       "  </thead>\n",
       "  <tbody>\n",
       "  </tbody>\n",
       "</table>\n",
       "</div>"
      ],
      "text/plain": [
       "Empty DataFrame\n",
       "Columns: [선명, 호출부호, 입항횟수, 입출, 총톤수, 계선, 계선장소, 입출항 차 (시간), 차항지, 전출항지, 입항일시, 출항일시, MRN 번호]\n",
       "Index: []"
      ]
     },
     "execution_count": 125,
     "metadata": {},
     "output_type": "execute_result"
    }
   ],
   "source": []
  },
  {
   "cell_type": "code",
   "execution_count": null,
   "metadata": {},
   "outputs": [],
   "source": []
  }
 ],
 "metadata": {
  "kernelspec": {
   "display_name": "Python 3",
   "language": "python",
   "name": "python3"
  },
  "language_info": {
   "codemirror_mode": {
    "name": "ipython",
    "version": 3
   },
   "file_extension": ".py",
   "mimetype": "text/x-python",
   "name": "python",
   "nbconvert_exporter": "python",
   "pygments_lexer": "ipython3",
   "version": "3.8.5"
  }
 },
 "nbformat": 4,
 "nbformat_minor": 4
}
