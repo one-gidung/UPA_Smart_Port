{
 "cells": [
  {
   "cell_type": "code",
   "execution_count": 4,
   "metadata": {},
   "outputs": [],
   "source": [
    "from bs4 import BeautifulSoup\n",
    "from selenium import webdriver\n",
    "import time          \n",
    "import pandas as pd    \n",
    "import math"
   ]
  },
  {
   "cell_type": "code",
   "execution_count": 7,
   "metadata": {},
   "outputs": [
    {
     "name": "stdout",
     "output_type": "stream",
     "text": [
      "수집할 선박입출항 데이터의 년도를 입력하세요: 2020\n",
      "\n",
      "\n",
      "3.파일을 저장할 폴더명만 쓰세요(기본값:c:\\temp\\):56\n",
      "\n",
      "\n"
     ]
    }
   ],
   "source": [
    "query_txt = input('수집할 선박입출항 데이터의 년도를 입력하세요: ')\n",
    "print(\"\\n\")\n",
    "\n",
    "f_dir = input(\"3.파일을 저장할 폴더명만 쓰세요(기본값:c:\\\\temp\\\\):\") # Port_Data\n",
    "if f_dir == '' :\n",
    "    f_dir=\"c:\\\\temp\\\\\"\n",
    "\n",
    "print(\"\\n\")\n",
    "\n",
    "chrome_path = \"c:/temp/chromedriver_85/chromedriver.exe\"\n",
    "driver = webdriver.Chrome(chrome_path)\n",
    "query_url = 'https://new.portmis.go.kr/portmis/websquare/websquare.jsp?w2xPath=/portmis/w2/main/intro.xml'\n",
    "\n",
    "driver.get(query_url)\n",
    "time.sleep(2)\n",
    "driver.maximize_window()\n",
    "\n",
    "# 선박입출항현황 접속\n",
    "element = driver.find_element_by_id(\"mf_btnMove11\")\n",
    "element.click( )\n",
    "time.sleep(2)\n",
    "\n",
    "# 50000개씩 보기 콤보상자 클릭\n",
    "driver.find_element_by_id(\"mf_tacMain_contents_M0182_body_udcGridPageView2_sbxRecordCount_input_0\").click()\n",
    "driver.find_element_by_xpath(\"//select[@id='mf_tacMain_contents_M0182_body_udcGridPageView2_sbxRecordCount_input_0']/option[text()='50000개씩 보기']\").click()\n",
    "\n",
    "\n",
    "# element.send_keys(query_txt)\n",
    "# element.send_keys(\"\\n\")\n",
    "# time.sleep(2)\n",
    "\n",
    "# s_time = time.time( )"
   ]
  },
  {
   "cell_type": "code",
   "execution_count": null,
   "metadata": {},
   "outputs": [],
   "source": []
  },
  {
   "cell_type": "code",
   "execution_count": null,
   "metadata": {},
   "outputs": [],
   "source": []
  }
 ],
 "metadata": {
  "kernelspec": {
   "display_name": "Python 3",
   "language": "python",
   "name": "python3"
  },
  "language_info": {
   "codemirror_mode": {
    "name": "ipython",
    "version": 3
   },
   "file_extension": ".py",
   "mimetype": "text/x-python",
   "name": "python",
   "nbconvert_exporter": "python",
   "pygments_lexer": "ipython3",
   "version": "3.8.5"
  }
 },
 "nbformat": 4,
 "nbformat_minor": 4
}
